{
 "cells": [
  {
   "attachments": {},
   "cell_type": "markdown",
   "metadata": {},
   "source": [
    "# Tutorial for INTERACTIVE STACKED BAR CHART with Matlotplit and Ipywidgets\n"
   ]
  },
  {
   "attachments": {},
   "cell_type": "markdown",
   "metadata": {},
   "source": [
    "## Description\n"
   ]
  },
  {
   "attachments": {},
   "cell_type": "markdown",
   "metadata": {},
   "source": [
    "### What and Matplotlib and Ipywidgets\n"
   ]
  },
  {
   "attachments": {},
   "cell_type": "markdown",
   "metadata": {},
   "source": [
    "[Matplotlib](https://matplotlib.org/) is a Python library that supports creating static, animated, and interactive visualization. Matplotlib has been being used and integrated widely by community, example **Seaborn** is built and integrated with Matplotlib for statical visualization.\n",
    "\n",
    "[Ipywidgets](https://ipywidgets.readthedocs.io/en/stable/) is also a Python library that support the dynamical interaction in Jupyter Notebook. It allows many flexible configurations and customizations that leverage the **Matplotlib** library into a whole new different experience.\n"
   ]
  },
  {
   "attachments": {},
   "cell_type": "markdown",
   "metadata": {},
   "source": [
    "### Dataset\n"
   ]
  },
  {
   "attachments": {},
   "cell_type": "markdown",
   "metadata": {},
   "source": [
    "Dataset is about Employment type and Statics Wage in 2021 for all states and territories of the U.S. The dataset is downloaded from [Occupational Employment and Wage Statistics](https://www.bls.gov/oes/tables.htm).\n"
   ]
  },
  {
   "attachments": {},
   "cell_type": "markdown",
   "metadata": {},
   "source": [
    "## Import library\n"
   ]
  },
  {
   "attachments": {},
   "cell_type": "markdown",
   "metadata": {},
   "source": [
    "`matplotlib` needs to be installed befored using. Run this in your terminal:\n",
    "\n",
    "`pip install matplotlb`\n",
    "\n",
    "Also, `pandas` is needed to load dataset, and `ipywidgets` is used for interactive design. Run this in your terminal:\n",
    "\n",
    "`pip install pandas`\n",
    "\n",
    "`pip install ipywidgets`\n",
    "\n",
    "Then, import them as below and try to run them. \n",
    "\n",
    "**Note**: Sometime, it depends on the personal libraries in the your local Python folder, so you can install the library that you may miss during your running.\n"
   ]
  },
  {
   "cell_type": "code",
   "execution_count": 1,
   "metadata": {},
   "outputs": [],
   "source": [
    "import pandas as pd\n",
    "import numpy as np\n",
    "import matplotlib\n",
    "import matplotlib.pyplot as plt\n",
    "import ipywidgets as iw\n",
    "from IPython.display import display\n",
    "import time"
   ]
  },
  {
   "attachments": {},
   "cell_type": "markdown",
   "metadata": {},
   "source": [
    "## Load and Extract Data\n"
   ]
  },
  {
   "attachments": {},
   "cell_type": "markdown",
   "metadata": {},
   "source": [
    "After you download the dataset from the website mentioned above, import it using _pandas_ as below. Remember that you can specify which sheet of the excel file and which column you want to extract by using attribute _sheet_name_ and _usecols_, respectively.\n"
   ]
  },
  {
   "cell_type": "code",
   "execution_count": 2,
   "metadata": {},
   "outputs": [
    {
     "data": {
      "text/html": [
       "<div>\n",
       "<style scoped>\n",
       "    .dataframe tbody tr th:only-of-type {\n",
       "        vertical-align: middle;\n",
       "    }\n",
       "\n",
       "    .dataframe tbody tr th {\n",
       "        vertical-align: top;\n",
       "    }\n",
       "\n",
       "    .dataframe thead th {\n",
       "        text-align: right;\n",
       "    }\n",
       "</style>\n",
       "<table border=\"1\" class=\"dataframe\">\n",
       "  <thead>\n",
       "    <tr style=\"text-align: right;\">\n",
       "      <th></th>\n",
       "      <th>PRIM_STATE</th>\n",
       "      <th>OCC_TITLE</th>\n",
       "      <th>A_MEAN</th>\n",
       "    </tr>\n",
       "  </thead>\n",
       "  <tbody>\n",
       "    <tr>\n",
       "      <th>0</th>\n",
       "      <td>AL</td>\n",
       "      <td>All Occupations</td>\n",
       "      <td>48110</td>\n",
       "    </tr>\n",
       "    <tr>\n",
       "      <th>1</th>\n",
       "      <td>AL</td>\n",
       "      <td>Management Occupations</td>\n",
       "      <td>106210</td>\n",
       "    </tr>\n",
       "    <tr>\n",
       "      <th>2</th>\n",
       "      <td>AL</td>\n",
       "      <td>Chief Executives</td>\n",
       "      <td>150260</td>\n",
       "    </tr>\n",
       "    <tr>\n",
       "      <th>3</th>\n",
       "      <td>AL</td>\n",
       "      <td>General and Operations Managers</td>\n",
       "      <td>113350</td>\n",
       "    </tr>\n",
       "    <tr>\n",
       "      <th>4</th>\n",
       "      <td>AL</td>\n",
       "      <td>Legislators</td>\n",
       "      <td>28520</td>\n",
       "    </tr>\n",
       "    <tr>\n",
       "      <th>...</th>\n",
       "      <td>...</td>\n",
       "      <td>...</td>\n",
       "      <td>...</td>\n",
       "    </tr>\n",
       "    <tr>\n",
       "      <th>37575</th>\n",
       "      <td>VI</td>\n",
       "      <td>Industrial Truck and Tractor Operators</td>\n",
       "      <td>30400</td>\n",
       "    </tr>\n",
       "    <tr>\n",
       "      <th>37576</th>\n",
       "      <td>VI</td>\n",
       "      <td>Cleaners of Vehicles and Equipment</td>\n",
       "      <td>28040</td>\n",
       "    </tr>\n",
       "    <tr>\n",
       "      <th>37577</th>\n",
       "      <td>VI</td>\n",
       "      <td>Laborers and Freight, Stock, and Material Move...</td>\n",
       "      <td>30180</td>\n",
       "    </tr>\n",
       "    <tr>\n",
       "      <th>37578</th>\n",
       "      <td>VI</td>\n",
       "      <td>Packers and Packagers, Hand</td>\n",
       "      <td>26320</td>\n",
       "    </tr>\n",
       "    <tr>\n",
       "      <th>37579</th>\n",
       "      <td>VI</td>\n",
       "      <td>Stockers and Order Fillers</td>\n",
       "      <td>27710</td>\n",
       "    </tr>\n",
       "  </tbody>\n",
       "</table>\n",
       "<p>37580 rows × 3 columns</p>\n",
       "</div>"
      ],
      "text/plain": [
       "      PRIM_STATE                                          OCC_TITLE  A_MEAN\n",
       "0             AL                                    All Occupations   48110\n",
       "1             AL                             Management Occupations  106210\n",
       "2             AL                                   Chief Executives  150260\n",
       "3             AL                    General and Operations Managers  113350\n",
       "4             AL                                        Legislators   28520\n",
       "...          ...                                                ...     ...\n",
       "37575         VI             Industrial Truck and Tractor Operators   30400\n",
       "37576         VI                 Cleaners of Vehicles and Equipment   28040\n",
       "37577         VI  Laborers and Freight, Stock, and Material Move...   30180\n",
       "37578         VI                        Packers and Packagers, Hand   26320\n",
       "37579         VI                         Stockers and Order Fillers   27710\n",
       "\n",
       "[37580 rows x 3 columns]"
      ]
     },
     "execution_count": 2,
     "metadata": {},
     "output_type": "execute_result"
    }
   ],
   "source": [
    "data = pd.read_excel(io=\"./state_M2021_dl.xlsx\",\n",
    "                     sheet_name=\"data\",\n",
    "                     usecols=[\"PRIM_STATE\", \"OCC_TITLE\", \"A_MEAN\"])\n",
    "data"
   ]
  },
  {
   "attachments": {},
   "cell_type": "markdown",
   "metadata": {},
   "source": [
    "## Data Preparation\n"
   ]
  },
  {
   "attachments": {},
   "cell_type": "markdown",
   "metadata": {},
   "source": [
    "This step will group data into states and terrorities by dropping duplicates rows after selecting _PRIME_STATE_ column only\n"
   ]
  },
  {
   "cell_type": "code",
   "execution_count": 3,
   "metadata": {},
   "outputs": [
    {
     "data": {
      "text/plain": [
       "(array(['AL', 'AK', 'AZ', 'AR', 'CA', 'CO', 'CT', 'DE', 'DC', 'FL', 'GA',\n",
       "        'HI', 'ID', 'IL', 'IN', 'IA', 'KS', 'KY', 'LA', 'ME', 'MD', 'MA',\n",
       "        'MI', 'MN', 'MS', 'MO', 'MT', 'NE', 'NV', 'NH', 'NJ', 'NM', 'NY',\n",
       "        'NC', 'ND', 'OH', 'OK', 'OR', 'PA', 'RI', 'SC', 'SD', 'TN', 'TX',\n",
       "        'UT', 'VT', 'VA', 'WA', 'WV', 'WI', 'WY', 'GU', 'PR', 'VI'],\n",
       "       dtype=object),\n",
       " 54)"
      ]
     },
     "execution_count": 3,
     "metadata": {},
     "output_type": "execute_result"
    }
   ],
   "source": [
    "state = np.array(data[\"PRIM_STATE\"].drop_duplicates())\n",
    "count = state.__len__()\n",
    "state, count"
   ]
  },
  {
   "attachments": {},
   "cell_type": "markdown",
   "metadata": {},
   "source": [
    "Extract the average income from all occupations by getting rows where _OCC_TITLE_ is _All Occupations_:\n",
    "\n",
    "`data[(data[\"OCC_TITLE\"] == \"All Occupations\")]`\n",
    "\n",
    "Then, extract the _A_MEAN_ column only which contains the average income by using;\n",
    "\n",
    "`data[(data[\"OCC_TITLE\"] == \"All Occupations\")][\"A_MEAN\"]`\n",
    "\n",
    "Note that, because we will use `np.zeros()` later for visualiztion, which has the `float64` datatype as default, we should convert the data to `float64` when extract them. Same process for `all_occupations_a_mean`, `financial_managers_a_mean`, and `civil_engineers_a_mean`\n"
   ]
  },
  {
   "cell_type": "code",
   "execution_count": 4,
   "metadata": {},
   "outputs": [
    {
     "data": {
      "text/plain": [
       "array([48110., 63480., 55170., 46500., 68510., 62900., 66130., 59820.,\n",
       "       98370., 51950., 53940., 59760., 47940., 59650., 50440., 51140.,\n",
       "       49680., 48170., 47740., 53230., 65900., 72940., 55160., 60480.,\n",
       "       42700., 51390., 49340., 52110., 51080., 59270., 67120., 51860.,\n",
       "       70460., 53100., 53380., 53170., 48360., 59070., 55490., 62120.,\n",
       "       47490., 46810., 49330., 54230., 53400., 55450., 62330., 68740.,\n",
       "       46490., 53120., 52110., 39720., 30480., 47980.])"
      ]
     },
     "execution_count": 4,
     "metadata": {},
     "output_type": "execute_result"
    }
   ],
   "source": [
    "all_occupations_a_mean = np.array(\n",
    "    data[(data[\"OCC_TITLE\"] == \"All Occupations\")][\"A_MEAN\"], dtype=np.float64)\n",
    "all_occupations_a_mean"
   ]
  },
  {
   "cell_type": "code",
   "execution_count": 5,
   "metadata": {},
   "outputs": [
    {
     "data": {
      "text/plain": [
       "array([135090., 118540., 134110., 116460., 166220., 174890., 162270.,\n",
       "       191020., 174220., 137890., 145580., 123300., 108210., 143300.,\n",
       "       124690., 122790., 135820., 122760., 119640., 136100., 153500.,\n",
       "       161230., 134470., 142700., 100600., 138130., 120780., 129300.,\n",
       "       112790., 138350., 186890., 116320., 206990., 161720., 132190.,\n",
       "       138480., 127190., 131930., 151760., 169760., 131290., 144310.,\n",
       "       129250., 154240., 124170., 120280., 164340., 163720., 110460.,\n",
       "       144900., 114220.,  80610.,  84880., 101940.])"
      ]
     },
     "execution_count": 5,
     "metadata": {},
     "output_type": "execute_result"
    }
   ],
   "source": [
    "financial_managers_a_mean = np.array(\n",
    "    data[(data[\"OCC_TITLE\"] == \"Financial Managers\")][\"A_MEAN\"],\n",
    "    dtype=np.float64)\n",
    "financial_managers_a_mean"
   ]
  },
  {
   "cell_type": "code",
   "execution_count": 6,
   "metadata": {},
   "outputs": [
    {
     "data": {
      "text/plain": [
       "array([ 93820., 106440.,  87240.,  86230., 109890., 100800.,  92760.,\n",
       "       105620.,  95450.,  94050.,  79720.,  85280.,  85820.,  95670.,\n",
       "        83800.,  89940.,  89120.,  87220.,  96850.,  89950.,  91770.,\n",
       "        98910.,  84330.,  95960.,  85910.,  87050.,  79960.,  89000.,\n",
       "        96400.,  91210., 103140.,  92290.,  99860.,  90920.,  84690.,\n",
       "        87170.,  95680.,  94200.,  92150., 104010.,  87040.,  82340.,\n",
       "        89680.,  94470.,  90970.,  78190.,  95170.,  97340.,  90350.,\n",
       "        83080.,  85290.,  71270.,  62180.,  85930.])"
      ]
     },
     "execution_count": 6,
     "metadata": {},
     "output_type": "execute_result"
    }
   ],
   "source": [
    "civil_engineers_a_mean = np.array(\n",
    "    data[(data[\"OCC_TITLE\"] == \"Civil Engineers\")][\"A_MEAN\"], dtype=np.float64)\n",
    "civil_engineers_a_mean"
   ]
  },
  {
   "attachments": {},
   "cell_type": "markdown",
   "metadata": {},
   "source": [
    "# Draw Stacked Bar Chart:\n"
   ]
  },
  {
   "attachments": {},
   "cell_type": "markdown",
   "metadata": {},
   "source": [
    "To draw a stacked bar chart, we use `ax.bar` from the `plt.subplots`. Just like when we draw a stacked bar chart on a paper, we have to keep track of new starting point for each column everytime we draw a bar and want to add a bar on its top. Therefore, the array `bottom` is used to keep track of this. The other methods and attribute setters are straighforward and used below. In order to tweet the visualization, users can increase number of occupations by extracting more occupations in the dataset. However, they have to make sure that the size of the occupation income has to be same as the state size.\n"
   ]
  },
  {
   "cell_type": "code",
   "execution_count": 7,
   "metadata": {},
   "outputs": [
    {
     "data": {
      "image/png": "[encoded data removed]",
      "text/plain": [
       "<Figure size 2000x1000 with 1 Axes>"
      ]
     },
     "metadata": {},
     "output_type": "display_data"
    }
   ],
   "source": [
    "a_means = {\n",
    "    \"all_occupations\": all_occupations_a_mean,\n",
    "    \"financial_managers\": financial_managers_a_mean,\n",
    "    \"civil_engineers\": civil_engineers_a_mean\n",
    "}\n",
    "\n",
    "width = 0.7\n",
    "\n",
    "fig, ax = plt.subplots()\n",
    "bottom = np.zeros(count)\n",
    "\n",
    "fig.set_figwidth(20)\n",
    "fig.set_figheight(10)\n",
    "\n",
    "for boolean, a_mean in a_means.items():\n",
    "    p = ax.bar(state, a_mean, width, label=boolean, bottom=bottom)\n",
    "    bottom += a_mean\n",
    "\n",
    "ax.set_title(\n",
    "    'Fig. 1. Average personal income in 2021 of Civil Engineers, Financial Managers, and All Occupation from the U.S. The \\naverage income is encoded with the height of the bar. Each state has a stack of three bars, which are all occupations, \\nfinancial managers, and civil engineer as green orange, and blue, respectively. Also, the states orders are displayed \\nbased on their abbreviations from left to right for the horizontal axis. The average income of every occupation is \\nsummed up as one bar..'\n",
    ")\n",
    "ax.legend(loc=\"upper right\")\n",
    "\n",
    "plt.show()"
   ]
  },
  {
   "attachments": {},
   "cell_type": "markdown",
   "metadata": {},
   "source": [
    "# Draw Stacked Bar Charts with Users' Interactions"
   ]
  },
  {
   "attachments": {},
   "cell_type": "markdown",
   "metadata": {},
   "source": [
    "## Support functions\n"
   ]
  },
  {
   "attachments": {},
   "cell_type": "markdown",
   "metadata": {},
   "source": [
    "The `A_mean_state_occupations` is used for extracting annual mean salary from data (`A_MEAN`). This function accept a list of state abbreviations and a list of occupations as the parameters and will return a dataframe with passed state abbreviations and occupations."
   ]
  },
  {
   "cell_type": "code",
   "execution_count": 8,
   "metadata": {},
   "outputs": [
    {
     "data": {
      "text/html": [
       "<div>\n",
       "<style scoped>\n",
       "    .dataframe tbody tr th:only-of-type {\n",
       "        vertical-align: middle;\n",
       "    }\n",
       "\n",
       "    .dataframe tbody tr th {\n",
       "        vertical-align: top;\n",
       "    }\n",
       "\n",
       "    .dataframe thead th {\n",
       "        text-align: right;\n",
       "    }\n",
       "</style>\n",
       "<table border=\"1\" class=\"dataframe\">\n",
       "  <thead>\n",
       "    <tr style=\"text-align: right;\">\n",
       "      <th></th>\n",
       "      <th>PRIM_STATE</th>\n",
       "      <th>OCC_TITLE</th>\n",
       "      <th>A_MEAN</th>\n",
       "    </tr>\n",
       "  </thead>\n",
       "  <tbody>\n",
       "    <tr>\n",
       "      <th>17</th>\n",
       "      <td>AL</td>\n",
       "      <td>Compensation and Benefits Managers</td>\n",
       "      <td>113830</td>\n",
       "    </tr>\n",
       "    <tr>\n",
       "      <th>86</th>\n",
       "      <td>AL</td>\n",
       "      <td>Architects, Except Landscape and Naval</td>\n",
       "      <td>0</td>\n",
       "    </tr>\n",
       "    <tr>\n",
       "      <th>820</th>\n",
       "      <td>AK</td>\n",
       "      <td>Architects, Except Landscape and Naval</td>\n",
       "      <td>99980</td>\n",
       "    </tr>\n",
       "    <tr>\n",
       "      <th>2776</th>\n",
       "      <td>CA</td>\n",
       "      <td>Compensation and Benefits Managers</td>\n",
       "      <td>149670</td>\n",
       "    </tr>\n",
       "    <tr>\n",
       "      <th>2855</th>\n",
       "      <td>CA</td>\n",
       "      <td>Architects, Except Landscape and Naval</td>\n",
       "      <td>100790</td>\n",
       "    </tr>\n",
       "    <tr>\n",
       "      <th>33045</th>\n",
       "      <td>VA</td>\n",
       "      <td>Compensation and Benefits Managers</td>\n",
       "      <td>149550</td>\n",
       "    </tr>\n",
       "    <tr>\n",
       "      <th>33122</th>\n",
       "      <td>VA</td>\n",
       "      <td>Architects, Except Landscape and Naval</td>\n",
       "      <td>88060</td>\n",
       "    </tr>\n",
       "  </tbody>\n",
       "</table>\n",
       "</div>"
      ],
      "text/plain": [
       "      PRIM_STATE                               OCC_TITLE  A_MEAN\n",
       "17            AL      Compensation and Benefits Managers  113830\n",
       "86            AL  Architects, Except Landscape and Naval       0\n",
       "820           AK  Architects, Except Landscape and Naval   99980\n",
       "2776          CA      Compensation and Benefits Managers  149670\n",
       "2855          CA  Architects, Except Landscape and Naval  100790\n",
       "33045         VA      Compensation and Benefits Managers  149550\n",
       "33122         VA  Architects, Except Landscape and Naval   88060"
      ]
     },
     "execution_count": 8,
     "metadata": {},
     "output_type": "execute_result"
    }
   ],
   "source": [
    "tmp_result = data.loc[~data[\"PRIM_STATE\"].isin(['GU', 'PR', 'VI'])]\n",
    "def A_mean_state_occupations(states=None | list, occupations=None | list) -> None|pd.DataFrame:\n",
    "    '''\n",
    "        @states is a list of string of state abbreviation.\n",
    "        @occupations is a list of string of available occupations in the income_df.\n",
    "        @return dataframe that is filtered from @states and @occupations.\n",
    "        @notes: replace \"*\" by 0, \"#\" by 208000 and \"**\" by NAN\n",
    "    '''\n",
    "    result = None\n",
    "    if states==None and occupations==None:\n",
    "        result = tmp_result\n",
    "    elif states!=None and occupations!=None:\n",
    "        result = tmp_result.loc[tmp_result[\"PRIM_STATE\"].isin(states) & tmp_result[\"OCC_TITLE\"].isin(occupations)]\n",
    "    elif states==None:\n",
    "        result = tmp_result.loc[tmp_result[\"OCC_TITLE\"].isin(occupations)]\n",
    "    elif occupations==None:\n",
    "        result = tmp_result.loc[tmp_result[\"PRIM_STATE\"].isin(states)]\n",
    "    if result.__len__() != 0:\n",
    "        return result.replace(['*', '#', '**'], [0, 208000,  np.nan])\n",
    "    return None\n",
    "\n",
    "test = A_mean_state_occupations(states=['AL', 'AK', 'VA','CA'], occupations=['Compensation and Benefits Managers', 'Architects, Except Landscape and Naval'])\n",
    "test"
   ]
  },
  {
   "attachments": {},
   "cell_type": "markdown",
   "metadata": {},
   "source": [
    "## The Vis"
   ]
  },
  {
   "attachments": {},
   "cell_type": "markdown",
   "metadata": {},
   "source": [
    "This is the most significant improvement in comparison with the normal Stacked Bar Charts above as it includes the interacting capabilities. With this interactive graph, users can actively choose which states and occupations they want to include. Therefore, this can help solving the challenges of the Stacked Bar Chart: The amount of bars, the amount of stacked portion, and the order of the stacked portion (kind of)."
   ]
  },
  {
   "attachments": {},
   "cell_type": "markdown",
   "metadata": {},
   "source": [
    "----------\n",
    "**Instruction:**\n",
    "1. Choose the states you want (limit the amount for best visualization)\n",
    "2. Choose the occupations you want to compares (also limit the amount)\n",
    "3. Reset the visualization by choose different states and occupations\n",
    "\n",
    "----------\n"
   ]
  },
  {
   "cell_type": "code",
   "execution_count": 9,
   "metadata": {},
   "outputs": [
    {
     "data": {
      "application/vnd.jupyter.widget-view+json": {
       "model_id": "d6cb217815ef4bfa8a16c8e243651ca8",
       "version_major": 2,
       "version_minor": 0
      },
      "text/plain": [
       "VBox(children=(VBox(children=(SelectMultiple(description='States', index=(0,), options=('AL', 'AK', 'AZ', 'AR'…"
      ]
     },
     "metadata": {},
     "output_type": "display_data"
    }
   ],
   "source": [
    "states = data[\"PRIM_STATE\"].drop_duplicates()\n",
    "state_value = [np.array(states)[0]]\n",
    "\n",
    "# output to display the visualizations and interactive tools\n",
    "out = iw.Output()\n",
    "# the control box where all the interations happen\n",
    "controls = iw.VBox()\n",
    "\n",
    "\n",
    "# this makes sure the vis gets cleared before new vis gets drawn\n",
    "@out.capture(clear_output=True, wait=True)\n",
    "def draw_stacked_bar_chart(change):\n",
    "    # get the stack from the first SelectMultiple\n",
    "    states = sel_st.value\n",
    "    # occupations will be updated every time users pick new occupations\n",
    "    occupations = change.new\n",
    "    a_means = {}\n",
    "    # get raw data from the support function\n",
    "    raw_data = A_mean_state_occupations(states=states, occupations=occupations)\n",
    "    # add data to a_means\n",
    "    for occupation in occupations:\n",
    "        a_means[occupation] = np.array(\n",
    "            raw_data[(raw_data[\"OCC_TITLE\"] == occupation)][\"A_MEAN\"],\n",
    "            dtype=np.float64)\n",
    "    # set up the plot\n",
    "    width = 0.7\n",
    "    count = states.__len__()\n",
    "    fig, ax = plt.subplots()\n",
    "    # accumulator for the stacked bar charts\n",
    "    bottom = np.zeros(count)\n",
    "    fig.set_figwidth(20)\n",
    "    fig.set_figheight(20)\n",
    "    # draw the stacked bar charts\n",
    "    for boolean, a_mean in a_means.items():\n",
    "        p = ax.bar(states, a_mean, width, label=boolean, bottom=bottom)\n",
    "        bottom += a_mean\n",
    "    # The title templates are used for generating dynamical title\n",
    "    title_1 = 'Fig. 1. Average personal income in 2021 of '\n",
    "    title_2 = ' from the U.S. The average income is encoded with the height of the bar. Each state has a stack of three bars, which are all occupations, financial managers, and civil engineer as green orange, and blue, respectively. Also, the states orders are displayed based on their abbreviations from left to right for the horizontal axis. The average income of every occupation is summed up as one bar.'\n",
    "    title = ''\n",
    "    # max len of each line\n",
    "    max_len = 100\n",
    "    sub_title = []\n",
    "    # the process of generating th dynamical title\n",
    "    if list(occupations).__len__() >= 4:\n",
    "        title = title_1 + occupations[0] + ', ' + occupations[\n",
    "            1] + ', ' + occupations[2] + ', ' + occupations[\n",
    "                3] + ', and etc ' + title_2\n",
    "        new_line_nums = title.__len__() // max_len\n",
    "        for i in range(0, new_line_nums - 1):\n",
    "            sub_title.append(title[i * max_len:(i + 1) * max_len])\n",
    "        sub_title.append(\" \" + title[(new_line_nums - 1) * max_len:])\n",
    "    else:\n",
    "        title = title + title_1\n",
    "        for i in range(0, occupations.__len__() - 1):\n",
    "            title = title + occupations[i] + \", \"\n",
    "        title = title = title + \", and\" + occupations[-1] + title_2\n",
    "        new_line_nums = title.__len__() // max_len\n",
    "        for i in range(0, new_line_nums - 1):\n",
    "            sub_title.append(title[i * max_len:(i + 1) * max_len])\n",
    "        sub_title.append(\" \" + title[(new_line_nums - 1) * max_len:])\n",
    "    title = ''\n",
    "    for sub in sub_title:\n",
    "        title = title + sub + \"\\n\"\n",
    "    ax.set_title(title)\n",
    "    ax.legend(loc=\"best\")\n",
    "    plt.show()\n",
    "\n",
    "\n",
    "# this is used for catch the change from the states selection\n",
    "# then it generate the available occupations from the states\n",
    "# by using set intersection method to make sure all states\n",
    "# has the same occupations\n",
    "@out.capture(clear_output=True, wait=True)\n",
    "def update_occupations(change):\n",
    "    if change.name == 'value':\n",
    "        available_occupations = None\n",
    "        # put the first one in the available_occupations\n",
    "        if len(change.new) != 0:\n",
    "            available_occupations = set(\n",
    "                np.array(\n",
    "                    data[data[\"PRIM_STATE\"] == change.new[0]][\"OCC_TITLE\"]))\n",
    "        # intersecting occupations\n",
    "        for state in change.new:\n",
    "            available_occupations = available_occupations.intersection(\n",
    "                set(np.array(data[data[\"PRIM_STATE\"] == state][\"OCC_TITLE\"])))\n",
    "\n",
    "        # adding occupations to the second SelectMultiple\n",
    "        available_occupations = pd.Series(list(available_occupations))\n",
    "        occ_value = [np.array(available_occupations)[0]]\n",
    "        sel_occ = iw.SelectMultiple(\n",
    "            rows=10,\n",
    "            options=available_occupations,\n",
    "            value=occ_value,\n",
    "            description=\"Occupations\",\n",
    "            disable=False,\n",
    "        )\n",
    "        # set the eventlistener\n",
    "        sel_occ.observe(draw_stacked_bar_chart, names='value')\n",
    "        children = list(controls.children)\n",
    "        # have to clear the controls children to make sure\n",
    "        # that the control alway has only 2 SelectMultiple\n",
    "        if children.__len__() > 1:\n",
    "            children.pop(1)\n",
    "            children.append(sel_occ)\n",
    "            controls.children = tuple(children)\n",
    "\n",
    "\n",
    "sel_st = iw.SelectMultiple(options=states,\n",
    "                           value=state_value,\n",
    "                           rows=10,\n",
    "                           description='States',\n",
    "                           disabled=False)\n",
    "\n",
    "sel_st.observe(update_occupations, names='value')\n",
    "\n",
    "controls.children += (sel_st, )\n",
    "# dummy second SelectMultiple\n",
    "controls.children += (iw.SelectMultiple(disable=True), )\n",
    "\n",
    "display(iw.VBox([controls, out]))"
   ]
  }
 ],
 "metadata": {
  "kernelspec": {
   "display_name": "Python 3",
   "language": "python",
   "name": "python3"
  },
  "language_info": {
   "codemirror_mode": {
    "name": "ipython",
    "version": 3
   },
   "file_extension": ".py",
   "mimetype": "text/x-python",
   "name": "python",
   "nbconvert_exporter": "python",
   "pygments_lexer": "ipython3",
   "version": "3.11.3"
  },
  "orig_nbformat": 4,
  "vscode": {
   "interpreter": {
    "hash": "c261aea317cc0286b3b3261fbba9abdec21eaa57589985bb7a274bf54d6cc0a7"
   }
  }
 },
 "nbformat": 4,
 "nbformat_minor": 2
}
